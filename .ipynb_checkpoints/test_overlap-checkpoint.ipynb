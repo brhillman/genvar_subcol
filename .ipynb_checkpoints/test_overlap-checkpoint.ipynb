{
 "cells": [
  {
   "cell_type": "code",
   "execution_count": 1,
   "metadata": {
    "collapsed": false
   },
   "outputs": [
    {
     "name": "stderr",
     "output_type": "stream",
     "text": [
      "/Users/hillmanb/anaconda/lib/python3.4/site-packages/matplotlib/__init__.py:872: UserWarning: axes.color_cycle is deprecated and replaced with axes.prop_cycle; please use the latter.\n",
      "  warnings.warn(self.msg_depr % (key, alt_key))\n"
     ]
    }
   ],
   "source": [
    "%matplotlib inline\n",
    "%load_ext autoreload\n",
    "%autoreload 2\n",
    "%load_ext Cython\n",
    "import numpy, pandas, xarray\n",
    "import matplotlib.pyplot\n",
    "import seaborn; seaborn.set(style='darkgrid')"
   ]
  },
  {
   "cell_type": "code",
   "execution_count": 25,
   "metadata": {
    "collapsed": false
   },
   "outputs": [
    {
     "name": "stderr",
     "output_type": "stream",
     "text": [
      "/Users/hillmanb/anaconda/lib/python3.4/site-packages/IPython/utils/path.py:264: UserWarning: get_ipython_cache_dir has moved to the IPython.paths module\n",
      "  warn(\"get_ipython_cache_dir has moved to the IPython.paths module\")\n"
     ]
    }
   ],
   "source": [
    "%%cython\n",
    "import numpy, warnings\n",
    "def calc_overlap(q1, q2, xaxis=0, cf_min=0.0, cf_max=1.0):            \n",
    "    \n",
    "    # cloud fractions for each layer\n",
    "    c1 = (q1 > 0).mean(axis=xaxis)\n",
    "    c2 = (q2 > 0).mean(axis=xaxis)\n",
    "            \n",
    "    # theoretical combined cloud fractions\n",
    "    cmax = numpy.maximum(c1, c2)\n",
    "    cran = c1 + c2 - (c1 * c2)\n",
    "    ctrue = ((q1 > 0) | (q2 > 0)).mean(axis=xaxis)\n",
    "    \n",
    "    # overlap parameter alpha\n",
    "    alpha = numpy.where(cmax != cran, (ctrue - cran)/(cmax - cran), \n",
    "                        numpy.nan)\n",
    "    \n",
    "    # filter out cases with small or large cloud fractions?\n",
    "    # Tompkins and Di Giuseppe suggest only considering scenes for which\n",
    "    # cloud scale is smaller than sampling scale...so only partly-cloudy\n",
    "    # layers?\n",
    "    alpha = numpy.where((c1 > cf_min) & (c2 > cf_min) & \n",
    "                        (c1 < cf_max) & (c2 < cf_max), \n",
    "                        alpha, numpy.nan)\n",
    "    \n",
    "    return alpha\n",
    "\n",
    "\n",
    "def calc_rankcorr(q1, q2, xaxis=0):\n",
    "    # calculate ranks for OVERLAPPING CLOUDY PARTS of both layers\n",
    "    overlapping = (q1 > 0) & (q2 > 0)\n",
    "    r1 = numpy.where(overlapping, q1, numpy.nan).argsort(axis=xaxis).argsort(axis=xaxis)\n",
    "    r2 = numpy.where(overlapping, q2, numpy.nan).argsort(axis=xaxis).argsort(axis=xaxis)\n",
    "\n",
    "    # want only the valid ranks, not the ranks where there is no cloud!\n",
    "    # including those ranks would artificially inflate rho...\n",
    "    # NOTE: MUST INCLUDE THESE LINES! The sort method above gives ranks\n",
    "    # to ALL points, even those defined as NaN, the NaNs are just moved\n",
    "    # to the end. So, unless we mask these out again AFTER sorting, we\n",
    "    # would still be artificially inflating rho, even though we masked\n",
    "    # q1 and q2 already.\n",
    "    x = numpy.where(overlapping, r1, numpy.nan)\n",
    "    y = numpy.where(overlapping, r2, numpy.nan)\n",
    "\n",
    "    # calculate pearson product-moment correlation coefficient of ranks\n",
    "    with warnings.catch_warnings():\n",
    "        warnings.simplefilter('ignore', category=RuntimeWarning)\n",
    "        xb = numpy.nanmean(x, axis=xaxis, keepdims=True)\n",
    "        yb = numpy.nanmean(y, axis=xaxis, keepdims=True)\n",
    "        rho = numpy.nansum((x - xb)*(y - yb), axis=xaxis)/numpy.sqrt(\n",
    "            numpy.nansum((x - xb)**2, axis=xaxis) * numpy.nansum((y - yb)**2, axis=xaxis)\n",
    "        )\n",
    "    \n",
    "        # filter out cases with small cloud fraction?\n",
    "        rho = numpy.where(numpy.nanmean(overlapping, axis=xaxis) > 0, rho, numpy.nan)\n",
    "    \n",
    "    return rho\n",
    "\n",
    "\n",
    "def calc_overlap_adjacent(q, **kwargs):\n",
    "    overlap = 0.0 * q.sum(axis=1)\n",
    "    for k in range(1, q.crm_z.size):\n",
    "        overlap[:, k] = calc_overlap(q[:, :, k], q[:, :, k - 1], xaxis=1, **kwargs)\n",
    "    return overlap\n",
    "\n",
    "\n",
    "def calc_rankcorr_adjacent(q, **kwargs):\n",
    "    rankcorr = 0.0 * q.sum(axis=1)\n",
    "    for k in range(1, q.crm_z.size):\n",
    "        rankcorr[:, k] = calc_overlap(q[:, :, k], q[:, :, k - 1], xaxis=1, **kwargs)\n",
    "    return rankcorr\n",
    "\n",
    "\n",
    "def calc_overlap_dz(q, z, **kwargs):\n",
    "    (npts, ncol, nlev) = q.shape\n",
    "    assert z.shape == (npts, nlev)\n",
    "    \n",
    "    overlap = numpy.zeros([npts, nlev, nlev])\n",
    "    dz = numpy.zeros([npts, nlev, nlev])\n",
    "    \n",
    "    for j in range(nlev):\n",
    "        for k in range(j + 1, nlev):\n",
    "            overlap[:, j, k] = calc_overlap(q[:, :, j], q[:, :, k], xaxis=1, **kwargs)\n",
    "            dz[:, j, k] = numpy.abs(z[:, j] - z[:, k])\n",
    "    \n",
    "    return overlap, dz\n",
    "\n",
    "\n",
    "def calc_rankcorr_dz(q, z, **kwargs):\n",
    "    npts, ncol, nlev = q.shape\n",
    "    assert z.shape == (npts, nlev)\n",
    "    \n",
    "    rankcorr = numpy.zeros([npts, nlev, nlev])\n",
    "    dz = numpy.zeros([npts, nlev, nlev])\n",
    "    \n",
    "    for j in range(nlev):\n",
    "        for k in range(j + 1, nlev):\n",
    "            rankcorr[:, j, k] = calc_rankcorr(q[:, :, j], q[:, :, k], xaxis=1, **kwargs)\n",
    "            dz[:, j, k] = numpy.abs(z[:, j] - z[:, k])\n",
    "    \n",
    "    return rankcorr, dz\n",
    "\n",
    "\n",
    "def bin_overlap_dz(overlap, dz, nbins=20):\n",
    "    npts, nlev, nlev = overlap.shape\n",
    "    \n",
    "    # initialize output arrays\n",
    "    dz_edges = numpy.linspace(0, 15e3, nbins + 1)\n",
    "    dz_centers = (dz_edges[:-1] + dz_edges[1:]) / 2\n",
    "    overlap_sum = numpy.zeros([npts, nbins])\n",
    "    overlap_cnt = numpy.zeros([npts, nbins])\n",
    "    \n",
    "    for i, (z1, z2) in enumerate(zip(dz_edges[:-1], dz_edges[1:])):\n",
    "        valid = (dz > z1) & (dz <= z2) & numpy.isfinite(overlap)\n",
    "        overlap_sum[:, i] = numpy.sum(numpy.where(valid, overlap, 0))\n",
    "        overlap_cnt[:, i] = numpy.sum(numpy.where(valid, 1, 0))\n",
    "    \n",
    "    return overlap_sum, overlap_cnt, dz_centers"
   ]
  },
  {
   "cell_type": "code",
   "execution_count": 15,
   "metadata": {
    "collapsed": true
   },
   "outputs": [],
   "source": [
    "test_file = '/Users/hillmanb/mmf/2x2.5_11_CRM.cam2.h0.2000-07-01-00000.nc'"
   ]
  },
  {
   "cell_type": "code",
   "execution_count": 35,
   "metadata": {
    "collapsed": false
   },
   "outputs": [],
   "source": [
    "outputdir = '/Users/hillmanb'\n",
    "casenames = ('crm', 'mro-hom-padj', 'gen-var-calc')\n",
    "with xarray.open_dataset(test_file) as ds:\n",
    "    ds.load()\n",
    "    \n",
    "    # calculate total cloud and precip\n",
    "    qct = ds['CRM_QC'] + ds['CRM_QI']\n",
    "    qpt = ds['CRM_QPC'] + ds['CRM_QPI']\n",
    "    \n",
    "    # height coordinate; line up with CRM height grid\n",
    "    z = ds['Z3'].reindex(lev=ds.crm_z).rename({'lev': 'crm_z'})\n",
    "    \n",
    "    # collapse dimensions; subcol routines need (npts, ncol, nlev)\n",
    "    qct = qct.stack(pts=('time', 'lat', 'lon'), col=('crm_x', 'crm_y'))\n",
    "    qpt = qpt.stack(pts=('time', 'lat', 'lon'), col=('crm_x', 'crm_y'))\n",
    "    z = z.stack(pts=('time', 'lat', 'lon'))\n",
    "                \n",
    "    # tranpose dimensions\n",
    "    qct = qct.transpose('pts', 'col', 'crm_z')\n",
    "    qpt = qpt.transpose('pts', 'col', 'crm_z')\n",
    "    z = z.transpose('pts', 'crm_z')\n",
    "    \n",
    "    # calculate overlap statistics as a function of separation distance,\n",
    "    # and save to dataset\n",
    "    ds_out = xarray.Dataset()\n",
    "    for n, q in zip(('cloud', 'precip'), (qct, qpt)):\n",
    "        # calculate overlap statistics\n",
    "        overlap, dz = calc_overlap_dz(q, z)\n",
    "        rankcorr, dz = calc_rankcorr_dz(q, z)\n",
    "        \n",
    "        # bin into standard height bins\n",
    "        overlap_sum, overlap_cnt, dz_bins = bin_overlap_dz(overlap, dz)\n",
    "        rankcorr_sum, rankcorr_cnt, dz_bnds = bin_overlap_dz(rankcorr, dz)\n",
    "    \n",
    "        # convert to DataArrays\n",
    "        overlap_sum = xarray.DataArray(\n",
    "            overlap_sum, dims=('pts', 'dz'), coords={'pts': qct.pts, 'dz': dz_bins}\n",
    "        )\n",
    "        overlap_cnt = xarray.DataArray(\n",
    "            overlap_cnt, dims=('pts', 'dz'), coords={'pts': qct.pts, 'dz': dz_bins}\n",
    "        )\n",
    "        rankcorr_sum = xarray.DataArray(\n",
    "            rankcorr_sum, dims=('pts', 'dz'), coords={'pts': qct.pts, 'dz': dz_bins}\n",
    "        )\n",
    "        rankcorr_cnt = xarray.DataArray(\n",
    "            rankcorr_cnt, dims=('pts', 'dz'), coords={'pts': qct.pts, 'dz': dz_bins}\n",
    "        )    \n",
    "        \n",
    "        # unstack\n",
    "        overlap_sum = overlap_sum.unstack('pts')\n",
    "        overlap_cnt = overlap_cnt.unstack('pts')\n",
    "        rankcorr_sum = rankcorr_sum.unstack('pts')\n",
    "        rankcorr_cnt = rankcorr_cnt.unstack('pts')\n",
    "        \n",
    "        # save to dataset\n",
    "        ds_out.update({\n",
    "            n + '_overlap_sum': overlap_sum, \n",
    "            n + '_overlap_cnt': overlap_cnt,\n",
    "            n + '_rankcorr_sum': rankcorr_sum,\n",
    "            n + '_rankcorr_cnt': rankcorr_cnt,\n",
    "        })\n",
    "    \n",
    "    # save to file\n",
    "    #outputfile = outputdir + '/' + casename + '_' + os.path.basename(test_file)"
   ]
  },
  {
   "cell_type": "code",
   "execution_count": 56,
   "metadata": {
    "collapsed": false
   },
   "outputs": [
    {
     "name": "stderr",
     "output_type": "stream",
     "text": [
      "/Users/hillmanb/anaconda/lib/python3.4/site-packages/matplotlib/__init__.py:892: UserWarning: axes.color_cycle is deprecated and replaced with axes.prop_cycle; please use the latter.\n",
      "  warnings.warn(self.msg_depr % (key, alt_key))\n",
      "/Users/hillmanb/anaconda/lib/python3.4/site-packages/matplotlib/__init__.py:892: UserWarning: axes.color_cycle is deprecated and replaced with axes.prop_cycle; please use the latter.\n",
      "  warnings.warn(self.msg_depr % (key, alt_key))\n",
      "/Users/hillmanb/anaconda/lib/python3.4/site-packages/matplotlib/__init__.py:892: UserWarning: axes.color_cycle is deprecated and replaced with axes.prop_cycle; please use the latter.\n",
      "  warnings.warn(self.msg_depr % (key, alt_key))\n",
      "/Users/hillmanb/anaconda/lib/python3.4/site-packages/matplotlib/__init__.py:892: UserWarning: axes.color_cycle is deprecated and replaced with axes.prop_cycle; please use the latter.\n",
      "  warnings.warn(self.msg_depr % (key, alt_key))\n"
     ]
    },
    {
     "data": {
      "text/plain": [
       "<matplotlib.text.Text at 0x11419d6d8>"
      ]
     },
     "execution_count": 56,
     "metadata": {},
     "output_type": "execute_result"
    },
    {
     "data": {
      "image/png": "[encoded data removed]",
      "text/plain": [
       "<matplotlib.figure.Figure at 0x112f7f390>"
      ]
     },
     "metadata": {},
     "output_type": "display_data"
    }
   ],
   "source": [
    "figure, axes = matplotlib.pyplot.subplots(1, 2, sharey=True, sharex=True)\n",
    "for i, n in enumerate(('cloud', 'precip')):\n",
    "    for j, s in enumerate(('overlap', 'rankcorr')):\n",
    "        ssum = ds_out[n + '_' + s + '_sum']\n",
    "        scnt = ds_out[n + '_' + s + '_cnt']\n",
    "        savg = ssum.sum(dim=('time', 'lat', 'lon')) / scnt.sum(dim=('time', 'lat', 'lon'))\n",
    "\n",
    "        ax = figure.add_axes(axes[j])\n",
    "        pl = ax.scatter(savg, savg.dz, color=seaborn.color_palette()[i])\n",
    "        ax.set_xlabel(s)\n",
    "    \n",
    "axes[0].set_ylabel('Separation (m)')"
   ]
  },
  {
   "cell_type": "code",
   "execution_count": null,
   "metadata": {
    "collapsed": true
   },
   "outputs": [],
   "source": []
  }
 ],
 "metadata": {
  "kernelspec": {
   "display_name": "Python 3",
   "language": "python",
   "name": "python3"
  },
  "language_info": {
   "codemirror_mode": {
    "name": "ipython",
    "version": 3
   },
   "file_extension": ".py",
   "mimetype": "text/x-python",
   "name": "python",
   "nbconvert_exporter": "python",
   "pygments_lexer": "ipython3",
   "version": "3.4.3"
  }
 },
 "nbformat": 4,
 "nbformat_minor": 0
}
